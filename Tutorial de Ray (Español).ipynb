{
 "cells": [
  {
   "cell_type": "markdown",
   "metadata": {},
   "source": [
    "# Tutorial de Ray\n",
    "\n",
    "Ray provee una API para Python con funcionalidades para desarrollar y ejecutar aplicaciones distribuidas. Permite a los usuarios agilizar la ejecución de un codigo mediante la paralelización, es decir, que se encarga de que ciertos procesos se puedan ejecutar al mismo tiempo, y así evitar que los tiempos de espera sean mas extendidos. \n",
    "\n",
    "A continuación, veremos detalladamente algunos de los puntos mas esenciales de Ray.\n",
    "\n",
    "## - Paralelización (Funciones remotas)\n",
    "\n",
    "Con Ray las funciones se convierten en \"funciones remotas\", y son llamadas `Tareas` (o `Task` por su nombre en ingles). Estas funciones pueden ser ejecutadas de forma paralela. Para ello añadiremos \"@ray.remote\" sobre aquellas funciones que queramos transformar en funciones remotas. Este es un ejemplo de como convertiriamos una funcion regular de Python en una \"función remota\".\n",
    "\n",
    "```python\n",
    "# Función regular de Python.\n",
    "def funcion_regular():\n",
    "    return 1\n",
    "\n",
    "# Función remota de Ray.\n",
    "@ray.remote\n",
    "def funcion_remota():\n",
    "    return 1\n",
    "```\n",
    "\n",
    "A pesar de ser casi identicas a simple vista, una función remota tiene ciertas diferencias en comparación a una funcion regular de Python.\n",
    "\n",
    "1. **Llamada a la función:** La función regular se llama con `funcion_regular()`, mientras que la funcion remota es invocada con `funcion_remota.remote()`.\n",
    "\n",
    "2. **Retornar valores:** `funcion_regular` se ejecuta y retorna el valor de la función (`1`), mientras que `funcion_remota` retorna inmediatamente un `IdObjeto` (un \"Futuro\") y ejecuta la tarea en segundo plano. El resultado del Futuro retornado se puede obtener llamando `ray.get` on the `ObjectID`.\n",
    "\n",
    "    ```python\n",
    "    >>> funcion_regular()\n",
    "    1  # La funcion regular retorna directamente el resultado de la función\n",
    "    \n",
    "    >>> funcion_remota.remote()\n",
    "    IdObjeto(1c80d6937802cd7786ad25e50caf2f023c95e350) # La funcion remota devuelve el ID del resultado futuro\n",
    "    \n",
    "    >>> ray.get(funcion_remota.remote()) # Obtenemos el resultado haciendo ray.get sobre el ID retornado por la funcion remota\n",
    "    1\n",
    "    ```\n",
    "    \n",
    "3. **Paralelismo:** Las ejecuciones de `funcion_regular` son **en serie**, es decir se ejecutan de una en una:\n",
    "\n",
    "    ```python\n",
    "    result = 0\n",
    "    for _ in range(4): # En este loop se llama a funcion_regular una vez por iteración.\n",
    "        result += funcion_regular()\n",
    "    assert result == 4\n",
    "    ```\n",
    "    Mientras que las ejecuciones de `funcion_remota` ocurren en **paralelo**:\n",
    "    \n",
    "    ```python\n",
    "    results = []\n",
    "    for _ in range(4): # En este loop funcion_remota se ejecuta las 4 veces de forma simultanea.\n",
    "        results.append(funcion_remota.remote())\n",
    "    assert sum(ray.get(results)) == 4 # obtenemos el resultado con ray.get\n",
    "     ```\n",
    "  \n",
    "  \n",
    "**Ejemplo:** A continuación veremos un ejemplo de código para ver como transformaríamos una funcion regular, en una funcion remota, y como esto mejora notoriamente los tiempos de ejecución."
   ]
  },
  {
   "cell_type": "code",
   "execution_count": null,
   "metadata": {},
   "outputs": [],
   "source": [
    "from __future__ import absolute_import\n",
    "from __future__ import division\n",
    "from __future__ import print_function\n",
    "\n",
    "import ray\n",
    "import time\n",
    "\n",
    "print('Ray importado con exito!')"
   ]
  },
  {
   "cell_type": "markdown",
   "metadata": {},
   "source": [
    "Por defecto, Ray no ejecuta mas tareas al mismo tiempo que el numero de CPUs, pero este ejemplo requiere que se ejecuten cuatro tareas al mismo tiempo, por lo que le decimos a Ray que hay 4 CPUs."
   ]
  },
  {
   "cell_type": "code",
   "execution_count": null,
   "metadata": {},
   "outputs": [],
   "source": [
    "ray.init(num_cpus=4, ignore_reinit_error=True)\n",
    "\n",
    "# Aplicamos la funcion Sleep para mejorar la precision de las mediciones de tiempo que se utilizarán, porque es posible\n",
    "# que algunos procesos todavia se esten iniciando en segundo plano. Esto se aplicará en todos los ejercicios del tutorial.\n",
    "time.sleep(2.0)"
   ]
  },
  {
   "cell_type": "code",
   "execution_count": null,
   "metadata": {},
   "outputs": [],
   "source": [
    "# Esta es una función que simula un trabajo mas \"pesado\", que tomaría 1 segundo en ejecutar\n",
    "def funcion_reg(i):\n",
    "    time.sleep(1)\n",
    "    return i\n",
    "\n",
    "start_time = time.time()\n",
    "\n",
    "resultados = []\n",
    "for i in range(4):\n",
    "  resultados.append(funcion_reg(i)) # Llamamos 4 veces a funcion regular y retornamos el valor de i. Esto debería tardar\n",
    "                                    # unos 4 segundos (1 segundo por llamado)\n",
    "  \n",
    "duration = time.time() - start_time # Calculamos el tiempo que tomó en ejecutar esta tarea\n",
    "print('Ejecutar esta iteración tomó {:.3f} segundos.'.format(duration))\n",
    "print('Los resultados son:', resultados)"
   ]
  },
  {
   "cell_type": "markdown",
   "metadata": {},
   "source": [
    "**Comparación:** Ahora veremos como se comporta la misma función, pero si le aplicamos Ray:"
   ]
  },
  {
   "cell_type": "code",
   "execution_count": null,
   "metadata": {},
   "outputs": [],
   "source": [
    "@ray.remote  # Agregamos el @ray.remote para indicar que es una funcion remota\n",
    "def funcion_rem(i):\n",
    "    time.sleep(1)\n",
    "    return i\n",
    "\n",
    "start_time = time.time()\n",
    "\n",
    "resultados = []\n",
    "for i in range(4):\n",
    "  resultados.append(funcion_rem.remote(i)) # En esta linea estamos almacenando en el arreglo \"resultados\" los ID de los objetos\n",
    "                                           # (futuros) retornados por la funcion remota (la cual es llamada con .remote).\n",
    "                                           # Acá se realizarán los 4 llamados a funcion_rem de forma paralela.\n",
    "\n",
    "resultados = ray.get(resultados) # Obtenemos el valor de los futuros aplicando el ray.get a los id oobtenidos previamente\n",
    "duration = time.time() - start_time # Calculamos el tiempo de ejecución\n",
    "\n",
    "print('Ejecutar esta iteracion tomó {:.3f} segundos.'.format(duration))\n",
    "print('Los resultados son:', resultados)"
   ]
  },
  {
   "cell_type": "markdown",
   "metadata": {},
   "source": [
    "**Resultado:** Se puede apreciar como con unos pocos cambios de codigo, la ejecución de la función remota fue mas rápida que la función regular, ya que al momento de ejecutar el loop \"for\", Ray realizó las 4 iteraciones en paralelo."
   ]
  },
  {
   "cell_type": "markdown",
   "metadata": {},
   "source": [
    "## - Procesamiento de datos en paralelo\n",
    "\n",
    "La siguiente función remota, retorna el mismo argumento que se le pasa. Si le pasamos un objeto, el resultado obtenido por ray.get debería ser el mismo objeto, como se puede apreciar en el siguiente ejemplo:\n",
    "\n",
    "```python\n",
    "@ray.remote\n",
    "def f(x): # Le pasamos un objeto por parametro\n",
    "    return x # Retornamos el mismo objeto\n",
    "\n",
    ">>> x1_id = f.remote(1) # El valor retornado por la función es el ID del objeto \n",
    ">>> ray.get(x1_id) # obtenemos su valor utilizando el ray.get\n",
    "1\n",
    "\n",
    ">>> x2_id = f.remote([1, 2, 3]) # Le pasamos un arreglo como argumento a la función, y esta retorna un id\n",
    "                                # que referencia a ese arreglo\n",
    ">>> ray.get(x2_id)\n",
    "[1, 2, 3]\n",
    "```\n",
    "\n",
    "Tambien podemos pasar el ID de algun objeto por parametro en una funcion remota. Cuando se ejecute la funcion, Ray automaticamente convertira ese ID en el objeto al que esta referenciando.\n",
    "\n",
    "```python\n",
    ">>> y1_id = f.remote(x1_id) # Le pasamos el id del objeto por parametro y lo almacenamos dentro de una variable \n",
    ">>> ray.get(y1_id) # Al hacer ray.get obetenemos el objeto referenciado\n",
    "1\n",
    "\n",
    ">>> y2_id = f.remote(x2_id)\n",
    ">>> ray.get(y2_id)\n",
    "[1, 2, 3]\n",
    "```\n",
    "\n",
    "En este ultimo ejemplo, la tarea que crea `y1_id` no se ejecutará hasta que finalice de ejecutarse la tarea que crea `x1_id`.\n",
    "\n",
    "**Ejemplo:** Ahora veremos un ejemplo de como  "
   ]
  },
  {
   "cell_type": "code",
   "execution_count": null,
   "metadata": {},
   "outputs": [],
   "source": [
    "from __future__ import absolute_import\n",
    "from __future__ import division\n",
    "from __future__ import print_function\n",
    "\n",
    "import numpy as np\n",
    "import time\n",
    "\n",
    "import ray"
   ]
  },
  {
   "cell_type": "code",
   "execution_count": null,
   "metadata": {},
   "outputs": [],
   "source": [
    "ray.init(num_cpus=4, ignore_reinit_error=True)\n",
    "\n",
    "time.sleep(2.0)"
   ]
  },
  {
   "cell_type": "code",
   "execution_count": null,
   "metadata": {},
   "outputs": [],
   "source": [
    "# Estas funciones simulan procesos mas complicados, usando el time.sleep para que tarden mas en ejecutar.\n",
    "def load_data(filename):\n",
    "    time.sleep(0.1)\n",
    "    return np.ones((1000, 100))\n",
    "\n",
    "def normalize_data(data):\n",
    "    time.sleep(0.1)\n",
    "    return data - np.mean(data, axis=0)\n",
    "\n",
    "def extract_features(normalized_data):\n",
    "    time.sleep(0.1)\n",
    "    return np.hstack([normalized_data, normalized_data ** 2])\n",
    "\n",
    "def compute_loss(features):\n",
    "    num_data, dim = features.shape # retorna cantidad de elementos en cada dimension de la matriz\n",
    "    time.sleep(0.1)\n",
    "    return np.sum((np.dot(features, np.ones(dim)) - np.ones(num_data)) ** 2) "
   ]
  },
  {
   "cell_type": "code",
   "execution_count": null,
   "metadata": {},
   "outputs": [],
   "source": [
    "start_time = time.time()\n",
    "losses = []\n",
    "for filename in ['file1', 'file2', 'file3', 'file4']:\n",
    "    inner_start = time.time()\n",
    "\n",
    "    data = load_data(filename)\n",
    "    normalized_data = normalize_data(data)\n",
    "    features = extract_features(normalized_data)\n",
    "    loss = compute_loss(features)\n",
    "    losses.append(loss)\n",
    "    \n",
    "    inner_end = time.time()\n",
    "    \n",
    "\n",
    "print('Las perdidas son {}.'.format(losses) + '\\n')\n",
    "loss = sum(losses)\n",
    "\n",
    "duration = time.time() - start_time\n",
    "\n",
    "print('La perdida total es {}. Esto tardó {:.3f} segundos.'.format(loss, duration))"
   ]
  },
  {
   "cell_type": "markdown",
   "metadata": {},
   "source": [
    "**Comparación:** Ahora probemos el mismo ejemplo, pero esta vez utilizando Ray, y veamos como afecta en el tiempo de ejecución"
   ]
  },
  {
   "cell_type": "code",
   "execution_count": null,
   "metadata": {},
   "outputs": [],
   "source": [
    "@ray.remote # Aplicamos el ray.remote sobre todas las funciones para convertirlas en funciones remotas\n",
    "def load_data(filename):\n",
    "    time.sleep(0.1)\n",
    "    return np.ones((1000, 100))\n",
    "\n",
    "@ray.remote\n",
    "def normalize_data(data):\n",
    "    time.sleep(0.1)\n",
    "    return data - np.mean(data, axis=0)\n",
    "\n",
    "@ray.remote\n",
    "def extract_features(normalized_data):\n",
    "    time.sleep(0.1)\n",
    "    return np.hstack([normalized_data, normalized_data ** 2])\n",
    "\n",
    "@ray.remote\n",
    "def compute_loss(features):\n",
    "    num_data, dim = features.shape\n",
    "    time.sleep(0.1)\n",
    "    return np.sum((np.dot(features, np.ones(dim)) - np.ones(num_data)) ** 2)"
   ]
  },
  {
   "cell_type": "code",
   "execution_count": null,
   "metadata": {},
   "outputs": [],
   "source": [
    "start_time = time.time()\n",
    "losses = []\n",
    "for filename in ['file1', 'file2', 'file3', 'file4']:\n",
    "    inner_start = time.time()\n",
    "\n",
    "    data = load_data.remote(filename)\n",
    "    normalized_data = normalize_data.remote(data)\n",
    "    features = extract_features.remote(normalized_data)\n",
    "    loss = compute_loss.remote(features)\n",
    "    losses.append(loss) \n",
    "    \n",
    "    inner_end = time.time()\n",
    "    \n",
    "        \n",
    "losses = ray.get(losses) # Obtenemos los objetos haciendo ray.get sobre los IDs\n",
    "print('Las perdidas son {}.'.format(losses) + '\\n')\n",
    "loss = sum(losses)\n",
    "\n",
    "duration = time.time() - start_time\n",
    "\n",
    "print('La perdida total es {}. Esto tardó {:.3f} segundos.'.format(loss, duration))"
   ]
  },
  {
   "cell_type": "markdown",
   "metadata": {},
   "source": [
    "## - Paralelismo anidado\n",
    "\n",
    "En este punto veremos como crear tareas anidadas, llamando una funcion remota dentro de otra funcion remota. También veremos unos ejemplos para apreciar mejor como se reducen los tiempos de ejecución.\n",
    "\n",
    "Al igual que las funciones regulares, las funciones remotas pueden llamar a otras funciones remotas, como se muestra en el siguiente ejemplo:\n",
    "\n",
    "```python\n",
    "@ray.remote\n",
    "def f():\n",
    "    return 1\n",
    "\n",
    "@ray.remote\n",
    "def g():\n",
    "    # Llama a la funcion f 4 veces y retorna el arreglo con los IDs de los objetos.\n",
    "    results = []\n",
    "    for _ in range(4):\n",
    "      results.append(f.remote())\n",
    "    return results\n",
    "\n",
    "@ray.remote\n",
    "def h():\n",
    "    # Llama a f 4 veces y antes de retornar el resultado debe esperar a que finalicen las 4 tareas,\n",
    "    # entonces retornará un arreglo con los objetos.\n",
    "    results = []\n",
    "    for _ in range(4):\n",
    "      results.append(f.remote())\n",
    "    return ray.get(results)\n",
    "```\n",
    "\n",
    "Las funciones g() y h() retornarán los siguientes valores\n",
    "\n",
    "```python\n",
    "\n",
    ">>> ray.get(g.remote()) # g retorna un arreglo con los IDs de los objetos, ya que al llamar a f no se aplica ray.remote\n",
    "[ObjectID(b1457ba0911ae84989aae86f89409e953dd9a80e),\n",
    " ObjectID(7c14a1d13a56d8dc01e800761a66f09201104275),\n",
    " ObjectID(99763728ffc1a2c0766a2000ebabded52514e9a6),\n",
    " ObjectID(9c2f372e1933b04b2936bb6f58161285829b9914)]\n",
    "\n",
    ">>> ray.get(h.remote()) # h retorna el arreglo con los objetos que retorna f\n",
    "[1, 1, 1, 1]\n",
    "```\n",
    "\n",
    "**Ejemplo:** Ahora veremos un codigo ejecutable para apreciar de mejor manera como se paraleliza un codigo con funciones anidadas."
   ]
  },
  {
   "cell_type": "code",
   "execution_count": null,
   "metadata": {},
   "outputs": [],
   "source": [
    "from __future__ import absolute_import\n",
    "from __future__ import division\n",
    "from __future__ import print_function\n",
    "\n",
    "import numpy as np\n",
    "import time\n",
    "\n",
    "import ray"
   ]
  },
  {
   "cell_type": "code",
   "execution_count": null,
   "metadata": {},
   "outputs": [],
   "source": [
    "ray.init(num_cpus=9, ignore_reinit_error=True)\n",
    "\n",
    "time.sleep(2.0)"
   ]
  },
  {
   "cell_type": "code",
   "execution_count": null,
   "metadata": {},
   "outputs": [],
   "source": [
    "def compute_gradient(data, current_model): # Simula una funcion que tardaría 0.03 segundos en ejecutar\n",
    "    time.sleep(0.03)\n",
    "    return 1\n",
    "\n",
    "def train_model(hyperparameters):\n",
    "    current_model = 0\n",
    "    for _ in range(10):\n",
    "        gradients = []\n",
    "        for j in range(2):\n",
    "            gradients.append(compute_gradient(j, current_model)) # Añade un 1 por iteración en el arreglo gradients\n",
    "        current_model += sum(gradients) # Suma los valores dentro del arreglo gradients y los almacena en una variable\n",
    "\n",
    "    return current_model # Retorna la suma total de \n"
   ]
  },
  {
   "cell_type": "code",
   "execution_count": null,
   "metadata": {},
   "outputs": [],
   "source": [
    "# Aplicamos time.sleep para mejorar la precision en las mediciones de tiempo.\n",
    "time.sleep(2.0)\n",
    "start_time = time.time()\n",
    "\n",
    "\n",
    "results = []\n",
    "for hyperparameters in [{'learning_rate': 1e-1, 'batch_size': 100},\n",
    "                        {'learning_rate': 1e-2, 'batch_size': 100},\n",
    "                        {'learning_rate': 1e-3, 'batch_size': 100}]:\n",
    "    results.append(train_model(hyperparameters))\n",
    "\n",
    "end_time = time.time()\n",
    "duration = end_time - start_time\n",
    "\n",
    "print('El resultado es {}. Esto tardó {:.3f} segundos.'.format(results, duration))"
   ]
  },
  {
   "cell_type": "markdown",
   "metadata": {},
   "source": [
    "**Comparación:** Veamos ahora como se comportaría este mismo codigo si le aplicamos Ray."
   ]
  },
  {
   "cell_type": "code",
   "execution_count": null,
   "metadata": {},
   "outputs": [],
   "source": [
    "@ray.remote\n",
    "def compute_gradient(data, current_model):\n",
    "    time.sleep(0.03)\n",
    "    return 1\n",
    "\n",
    "@ray.remote\n",
    "def train_model(hyperparameters):\n",
    "    current_model = 0\n",
    "    for _ in range(10):\n",
    "        gradients = []\n",
    "        for j in range(2):\n",
    "            gradients.append(compute_gradient.remote(j, current_model))\n",
    "        current_model += sum(ray.get(gradients))\n",
    "\n",
    "\n",
    "    return current_model"
   ]
  },
  {
   "cell_type": "code",
   "execution_count": null,
   "metadata": {},
   "outputs": [],
   "source": [
    "# Sleep a little to improve the accuracy of the timing measurements below.\n",
    "time.sleep(2.0)\n",
    "start_time = time.time()\n",
    "\n",
    "# Run some hyperparaameter experiments.\n",
    "results = []\n",
    "for hyperparameters in [{'learning_rate': 1e-1, 'batch_size': 100},\n",
    "                        {'learning_rate': 1e-2, 'batch_size': 100},\n",
    "                        {'learning_rate': 1e-3, 'batch_size': 100}]:\n",
    "    results.append(train_model.remote(hyperparameters))\n",
    "\n",
    "\n",
    "results = ray.get(results)\n",
    "end_time = time.time()\n",
    "duration = end_time - start_time\n",
    "\n",
    "print('El resultado es {}. Esto tardó {:.3f} segundos.'.format(results, duration))"
   ]
  },
  {
   "cell_type": "markdown",
   "metadata": {},
   "source": [
    "## - Actores\n",
    "\n",
    "En Ray, un Actor es muy parecido a lo que es una clase normal de Python. Se inicializa de la misma manera (con la función `__init__` ) y puede contener funciones internas, a las que se deben acceder con los metodos remotos.\n",
    "\n",
    "Para crear un Actor solo debemos colocar el `@ray.remote` sobre una clase, como se muestra en el siguiente ejemplo:\n",
    "\n",
    "```python\n",
    "@ray.remote\n",
    "class Example(object):\n",
    "    def __init__(self, x):\n",
    "        self.x = x\n",
    "    \n",
    "    def set(self, x):\n",
    "        self.x = x\n",
    "    \n",
    "    def get(self):\n",
    "        return self.x\n",
    "```\n",
    "Un Actor se diferencia de una clase regular de Python en algunos puntos muy especificos que se presentan a continuación:\n",
    "\n",
    "1. **Instanciación:** Una clase regular de Python es instanciada con: `e = Example(1)` \n",
    "\n",
    "    Mientras que un Actor se instancia con el metodo remoto:  `e = Example.remote(1)`\n",
    "    \n",
    "\n",
    "2. **Invocación de metodos:** Los metodos de una clase regular serían invocados con `e.set(2)` o `e.get()`, mientras que los metodos de un Actor serían invocados de la siguiente manera:\n",
    "\n",
    "    ```python\n",
    "        >>> e.set.remote(2)\n",
    "        ObjectID(d966aa9b6486331dc2257522734a69ff603e5a1c)\n",
    "    \n",
    "        >>> e.get.remote()\n",
    "        ObjectID(7c432c085864ed4c7c18cf112377a608676afbc3)\n",
    "    ```\n",
    "\n",
    "3. **Retornar valores:** Los metodos de un Actor retornar de manera inmediata el ID del objeto resultante. Este resultado se puede obtener mediante el `ray.get`.\n",
    "\n",
    "    ```python\n",
    "        >>> ray.get(e.set.remote(2))\n",
    "        None\n",
    "    \n",
    "        >>> ray.get(e.get.remote())\n",
    "        2\n",
    "    ```\n",
    "\n",
    "**Ejemplo:** Ahora veremos un ejemplo de como aplicar los Actores de Ray:"
   ]
  },
  {
   "cell_type": "code",
   "execution_count": null,
   "metadata": {},
   "outputs": [],
   "source": [
    "from __future__ import absolute_import\n",
    "from __future__ import division\n",
    "from __future__ import print_function\n",
    "\n",
    "from collections import defaultdict\n",
    "import numpy as np\n",
    "import time\n",
    "\n",
    "import ray\n",
    "\n",
    "print('Ray importado con exito!')"
   ]
  },
  {
   "cell_type": "code",
   "execution_count": null,
   "metadata": {},
   "outputs": [],
   "source": [
    "ray.init(num_cpus=4, ignore_reinit_error=True)"
   ]
  },
  {
   "cell_type": "code",
   "execution_count": null,
   "metadata": {},
   "outputs": [],
   "source": [
    "class Foo(object):\n",
    "    def __init__(self):\n",
    "        self.counter = 0\n",
    "\n",
    "    def reset(self):\n",
    "        self.counter = 0\n",
    "\n",
    "    def increment(self):\n",
    "        time.sleep(0.5)\n",
    "        self.counter += 1\n",
    "        return self.counter"
   ]
  },
  {
   "cell_type": "code",
   "execution_count": null,
   "metadata": {},
   "outputs": [],
   "source": [
    "# Creamos dos objetos de la clase Foo\n",
    "f1 = Foo()\n",
    "f2 = Foo()"
   ]
  },
  {
   "cell_type": "code",
   "execution_count": null,
   "metadata": {},
   "outputs": [],
   "source": [
    "start_time = time.time()\n",
    "\n",
    "f1.reset()\n",
    "f2.reset()\n",
    "\n",
    "results = []\n",
    "for _ in range(5): # Incrementaremos 1 en 1 el estado de los objetos hasta llegar a 5.\n",
    "    results.append(f1.increment())\n",
    "    results.append(f2.increment())\n",
    "\n",
    "duration = time.time() - start_time # Calculamos el tiempo de ejecución de este ejemplo.\n",
    "\n",
    "print('Los resultados son: {}. Esto tardó {:.3f} segundos'.format(results, duration))"
   ]
  },
  {
   "cell_type": "markdown",
   "metadata": {},
   "source": [
    "**Comparación:** Ahora veremos como funciona si usamos actores en lugar de clases"
   ]
  },
  {
   "cell_type": "code",
   "execution_count": null,
   "metadata": {},
   "outputs": [],
   "source": [
    "@ray.remote\n",
    "class Foo(object):\n",
    "    def __init__(self):\n",
    "        self.counter = 0\n",
    "\n",
    "    def reset(self):\n",
    "        self.counter = 0\n",
    "\n",
    "    def increment(self):\n",
    "        time.sleep(0.5)\n",
    "        self.counter += 1\n",
    "        return self.counter"
   ]
  },
  {
   "cell_type": "code",
   "execution_count": null,
   "metadata": {},
   "outputs": [],
   "source": [
    "# Creamos dos actores\n",
    "f1 = Foo.remote()\n",
    "f2 = Foo.remote()"
   ]
  },
  {
   "cell_type": "code",
   "execution_count": null,
   "metadata": {},
   "outputs": [],
   "source": [
    "start_time = time.time()\n",
    "\n",
    "# Reiniciamos el estado del actor y asi podemos correr esta celda multiples veces sin cambiar los resultados.\n",
    "f1.reset.remote()\n",
    "f2.reset.remote()\n",
    "\n",
    "results = []\n",
    "for _ in range(5):\n",
    "    results.append(f1.increment.remote()) # Llenamos el arreglo results con los ID retornados por los metodos del actor\n",
    "    results.append(f2.increment.remote())    \n",
    "    \n",
    "results = ray.get(results) # Obtenemos el valor de los resultados retornados por los metodos del Actor\n",
    "                           # usando ray.get\n",
    "\n",
    "duration = time.time() - start_time\n",
    "\n",
    "print('Los resultados son: {}. Esto tardó {:.3f} segundos'.format(results, duration))"
   ]
  },
  {
   "cell_type": "markdown",
   "metadata": {},
   "source": [
    "## - Compartir referencias a un Actor\n",
    "\n",
    "Supongamos que en algun momento queramos tener varias tareas remotas que invocan metodos en el mismo actor. Para esto, podemos pasar el identificador del Actor como un argumento para las tareas.\n",
    "\n",
    "Primero creamos el actor de la siguiente manera:\n",
    "\n",
    "```python\n",
    "@ray.remote\n",
    "class Actor(object):\n",
    "    def method(self):\n",
    "        pass\n",
    "\n",
    "# Creamos el actor\n",
    "actor = Actor.remote()\n",
    "```\n",
    "Luego, definimos una funcion remota que reciba un identificador del actor como argumento\n",
    "\n",
    "\n",
    "```python\n",
    "@ray.remote\n",
    "def f(actor):\n",
    "    # Podemos invocar un metodo en el actor y esperar sus resultados\n",
    "    return ray.get(actor.method.remote())\n",
    "```\n",
    "\n",
    "Despues podemos invocar la funcion remota varias veces y pasarle el identificador del actor como argumento\n",
    "\n",
    "```python\n",
    "# Cada una de estas funciones remotas invocará metodos en el mismo actor.\n",
    "f.remote(actor)\n",
    "f.remote(actor)\n",
    "f.remote(actor)\n",
    "```\n",
    "\n",
    "**Ejemplo:** Ahora veremos un ejemplo de como compartir referencias usando actores"
   ]
  },
  {
   "cell_type": "code",
   "execution_count": null,
   "metadata": {},
   "outputs": [],
   "source": [
    "@ray.remote\n",
    "class LoggingActor(object):\n",
    "    def __init__(self):\n",
    "        self.logs = defaultdict(lambda: [])\n",
    "    \n",
    "    def log(self, index, message):\n",
    "        self.logs[index].append(message)\n",
    "    \n",
    "    def get_logs(self):\n",
    "        return dict(self.logs)\n"
   ]
  },
  {
   "cell_type": "code",
   "execution_count": null,
   "metadata": {},
   "outputs": [],
   "source": [
    "logging_actor = LoggingActor.remote()"
   ]
  },
  {
   "cell_type": "code",
   "execution_count": null,
   "metadata": {},
   "outputs": [],
   "source": [
    "@ray.remote\n",
    "def run_experiment(experiment_index, logging_actor):\n",
    "    for i in range(60):\n",
    "        time.sleep(1)\n",
    "        # Push a logging message to the actor.\n",
    "        logging_actor.log.remote(experiment_index, 'Iteración numero: {}'.format(i))"
   ]
  },
  {
   "cell_type": "code",
   "execution_count": null,
   "metadata": {},
   "outputs": [],
   "source": [
    "experiment_ids = [run_experiment.remote(i, logging_actor) for i in range(3)]"
   ]
  },
  {
   "cell_type": "code",
   "execution_count": null,
   "metadata": {},
   "outputs": [],
   "source": [
    "logs = logging_actor.get_logs.remote()\n",
    "logs = ray.get(logs)\n",
    "\n",
    "logs"
   ]
  },
  {
   "cell_type": "markdown",
   "metadata": {},
   "source": [
    "**Resultado:** Prueba ejecutando la ultima instruccion reiteradas veces y mira como cambian los resultados de salida."
   ]
  },
  {
   "cell_type": "markdown",
   "metadata": {},
   "source": [
    "## - Ray.wait\n",
    "\n",
    "Luego de ejecutar un numero de tareas, en ciertos casos querrás saber cuales fueron las que terminaron primero en ejecutar. Esto se puede resolver usando `ray.wait`. Esta funcion se utiliza de la siguiente manera:\n",
    "\n",
    "    ids_listos, ids_restantes = ray.wait(ids_totales, num_retornos = 1, timeout = None)\n",
    "    \n",
    "Donde\n",
    "\n",
    "**Argumentos:**\n",
    "- ids_totales = Es una lista de ids de objetos.\n",
    "- num_retornos = Este es el numero maximo de IDs a esperar que terminen.\n",
    "- timeout = Esta es la cantidad de tiempo maxima (en milisegundos) a esperar. Ray.wait esperará hasta que los num_retornos objetos esten listos, o hasta que el tiempo estipulado en timeout haya pasado.\n",
    "\n",
    "**Valores retornados:**\n",
    "- ids_listos = Esta es una lista de objetos que estan disponibles.\n",
    "- ids_restantes = Es la lista de objetos que que restan de los ids_totales.\n",
    "\n",
    "En pocas palabras, a este metodo le debemos pasar como argumento una lista de ids, y ray.wait guardará en ids_listos todos aquellos objetos que ya esten disponibles, y en ids_restantes todos los que van quedando.\n",
    "\n",
    "**Ejemplo:** Ahora veremos un ejemplo de como aplicar ray.wait para cambiar los resultados a obtener."
   ]
  },
  {
   "cell_type": "code",
   "execution_count": null,
   "metadata": {},
   "outputs": [],
   "source": [
    "from __future__ import absolute_import\n",
    "from __future__ import division\n",
    "from __future__ import print_function\n",
    "\n",
    "import numpy as np\n",
    "import ray\n",
    "import time\n",
    "\n",
    "print('Ray importado con exito!')"
   ]
  },
  {
   "cell_type": "code",
   "execution_count": null,
   "metadata": {},
   "outputs": [],
   "source": [
    "ray.init(num_cpus=6, ignore_reinit_error=True)\n",
    "\n",
    "time.sleep(2.0)"
   ]
  },
  {
   "cell_type": "code",
   "execution_count": null,
   "metadata": {},
   "outputs": [],
   "source": [
    "@ray.remote\n",
    "def f(i):\n",
    "    np.random.seed(5 + i)\n",
    "    x = np.random.uniform(0, 4)\n",
    "    time.sleep(x)\n",
    "    return i, time.time()"
   ]
  },
  {
   "cell_type": "code",
   "execution_count": null,
   "metadata": {},
   "outputs": [],
   "source": [
    "start_time = time.time()\n",
    "\n",
    "# Esto ejecuta la funcion f 6 veces, lo que le da a cada iteración un resultado aleatorio de tiempo de ejecución\n",
    "\n",
    "result_ids = [f.remote(i) for i in range(6)]\n",
    "\n",
    "initial_results = ray.get(result_ids[:3]) # Se guardan en initial_results los resultados de las primeras 3 iteraciones\n",
    "\n",
    "print(initial_results)\n",
    "\n",
    "end_time = time.time()\n",
    "duration = end_time - start_time"
   ]
  },
  {
   "cell_type": "code",
   "execution_count": null,
   "metadata": {},
   "outputs": [],
   "source": [
    "remaining_results = ray.get(result_ids[3:]) # Se guardan en remaining_results los resultados de las ultimas 3 iteraciones\n",
    "print(remaining_results)"
   ]
  },
  {
   "cell_type": "code",
   "execution_count": null,
   "metadata": {},
   "outputs": [],
   "source": [
    "initial_indices = [result[0] for result in initial_results]\n",
    "initial_times = [result[1] for result in initial_results]\n",
    "remaining_indices = [result[0] for result in remaining_results]\n",
    "remaining_times = [result[1] for result in remaining_results]\n",
    "\n",
    "print('Este ejemplo tardó {} segundos.'.format(duration))"
   ]
  },
  {
   "cell_type": "markdown",
   "metadata": {},
   "source": [
    "Ahora el mismo codigo, pero utilizando la funcion ray.wait"
   ]
  },
  {
   "cell_type": "code",
   "execution_count": null,
   "metadata": {},
   "outputs": [],
   "source": [
    "@ray.remote\n",
    "def f(i):\n",
    "    np.random.seed(5 + i)\n",
    "    x = np.random.uniform(0, 4)\n",
    "    time.sleep(x)\n",
    "    return i, time.time()"
   ]
  },
  {
   "cell_type": "code",
   "execution_count": null,
   "metadata": {},
   "outputs": [],
   "source": [
    "start_time = time.time()\n",
    "\n",
    "result_ids = [f.remote(i) for i in range(6)]\n",
    "\n",
    "# Ahora con ray.wait, guardaremos en initial_results el id de los primeros 3 resultados en finalizar, y en\n",
    "# remaining_results, los id de los ultimos 3\n",
    "initial_results, remaining_results = ray.wait(result_ids, num_returns = 3, timeout = None)\n",
    "initial_results = ray.get(initial_results) # Obtenemos los valores de initial_results usando ray.get\n",
    "\n",
    "print(initial_results)\n",
    "\n",
    "end_time = time.time()\n",
    "duration = end_time - start_time"
   ]
  },
  {
   "cell_type": "code",
   "execution_count": null,
   "metadata": {},
   "outputs": [],
   "source": [
    "remaining_results = ray.get(remaining_results) # Obtenemos los valores de remaining_results usando ray.get\n",
    "print(remaining_results)"
   ]
  },
  {
   "cell_type": "code",
   "execution_count": null,
   "metadata": {},
   "outputs": [],
   "source": [
    "initial_indices = [result[0] for result in initial_results]\n",
    "initial_times = [result[1] for result in initial_results]\n",
    "remaining_indices = [result[0] for result in remaining_results]\n",
    "remaining_times = [result[1] for result in remaining_results]\n",
    "\n",
    "print('Este ejemplo tardó {} segundos.'.format(duration))"
   ]
  },
  {
   "cell_type": "markdown",
   "metadata": {},
   "source": [
    "## - Procesar tareas en orden de termino con ray.wait\n",
    "\n",
    "Ahora veremos un ejemplo de como utilizar ray.wait para procesar tareas en el orden en que terminan.\n",
    "Primero veamos un codigo sin ray.wait y veamos como procesa sus tareas:"
   ]
  },
  {
   "cell_type": "code",
   "execution_count": null,
   "metadata": {},
   "outputs": [],
   "source": [
    "from __future__ import absolute_import\n",
    "from __future__ import division\n",
    "from __future__ import print_function\n",
    "\n",
    "import numpy as np\n",
    "import ray\n",
    "import time"
   ]
  },
  {
   "cell_type": "code",
   "execution_count": null,
   "metadata": {},
   "outputs": [],
   "source": [
    "ray.init(num_cpus=5,  ignore_reinit_error=True)"
   ]
  },
  {
   "cell_type": "code",
   "execution_count": null,
   "metadata": {},
   "outputs": [],
   "source": [
    "@ray.remote\n",
    "def f():\n",
    "    time.sleep(np.random.uniform(0, 5)) # Esta funcion se pausará un cantidad de tiempo aleatorio, entre 0 y 5 segundos.\n",
    "    return time.time()"
   ]
  },
  {
   "cell_type": "code",
   "execution_count": null,
   "metadata": {},
   "outputs": [],
   "source": [
    "start_time = time.time()\n",
    "\n",
    "remaining_result_ids = [f.remote() for _ in range(10)]\n",
    "\n",
    "# Get the results.\n",
    "results = []\n",
    "while len(remaining_result_ids) > 0: \n",
    "    \n",
    "    #Con esta iteración mostraremos los resultados por orden de indice, es decir primero el i=0, luego i=1, y asi sucesivamente\n",
    "    \n",
    "    result_id = remaining_result_ids[0]\n",
    "    remaining_result_ids = remaining_result_ids[1:]\n",
    "    result = ray.get(result_id)\n",
    "    results.append(result)\n",
    "    print('Este procesamiento terminó en {} segundos.'\n",
    "          .format(result - start_time))    \n",
    "\n",
    "end_time = time.time()\n",
    "duration = end_time - start_time"
   ]
  },
  {
   "cell_type": "code",
   "execution_count": null,
   "metadata": {},
   "outputs": [],
   "source": [
    "print('Este ejemplo tardó {} segundos.'.format(duration))"
   ]
  },
  {
   "cell_type": "markdown",
   "metadata": {},
   "source": [
    "En este ejemplo de arriba podemos ver como los resultados fueron procesados en el orden que son ejecutados, y no en el orden en que terminaron. Esto se puede cambiar utilizando ray.wait de la siguiente forma:"
   ]
  },
  {
   "cell_type": "code",
   "execution_count": null,
   "metadata": {},
   "outputs": [],
   "source": [
    "@ray.remote\n",
    "def f():\n",
    "    time.sleep(np.random.uniform(0, 5))\n",
    "    return time.time()"
   ]
  },
  {
   "cell_type": "code",
   "execution_count": null,
   "metadata": {},
   "outputs": [],
   "source": [
    "start_time = time.time()\n",
    "\n",
    "remaining_result_ids = [f.remote() for _ in range(10)]\n",
    "\n",
    "results = []\n",
    "while len(remaining_result_ids) > 0:\n",
    "    \n",
    "    # Ahora usando ray.wait mostraremos los procesos en el orden en que se terminan de ejecutar.\n",
    "    \n",
    "    result_id, remaining_result_ids = ray.wait(remaining_result_ids, num_returns = 1, timeout = None)\n",
    "    result = ray.get(result_id)[0]\n",
    "    results.append(result)\n",
    "    print('Este procesamiento terminó en {} segundos.'\n",
    "          .format(result - start_time))    \n",
    "\n",
    "end_time = time.time()\n",
    "duration = end_time - start_time"
   ]
  },
  {
   "cell_type": "code",
   "execution_count": null,
   "metadata": {},
   "outputs": [],
   "source": [
    "print('Este ejemplo tardó {} segundos.'.format(duration))"
   ]
  },
  {
   "cell_type": "markdown",
   "metadata": {},
   "source": [
    "Podemos ver ahora como los resutaldos fueron procesados en el orden en que finalizaron."
   ]
  },
  {
   "cell_type": "code",
   "execution_count": null,
   "metadata": {},
   "outputs": [],
   "source": []
  }
 ],
 "metadata": {
  "kernelspec": {
   "display_name": "Python 3",
   "language": "python",
   "name": "python3"
  },
  "language_info": {
   "codemirror_mode": {
    "name": "ipython",
    "version": 3
   },
   "file_extension": ".py",
   "mimetype": "text/x-python",
   "name": "python",
   "nbconvert_exporter": "python",
   "pygments_lexer": "ipython3",
   "version": "3.7.0"
  }
 },
 "nbformat": 4,
 "nbformat_minor": 4
}
