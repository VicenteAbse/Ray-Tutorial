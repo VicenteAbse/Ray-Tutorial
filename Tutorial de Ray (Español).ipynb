{
 "cells": [
  {
   "cell_type": "markdown",
   "metadata": {},
   "source": [
    "# Tutorial de Ray\n",
    "\n",
    "Ray es una API para Python que provee funcionalidades para desarrollar y ejecutar aplicaciones distribuidas. Permite a los usuarios agilizar la ejecución de un codigo mediante la paralelización, es decir, que se encarga de que ciertos procesos se puedan ejecutar al mismo tiempo, y así evitar que los tiempos de espera sean mas extendidos. \n",
    "\n",
    "A continuación, veremos detalladamente algunos de los puntos mas esenciales de Ray.\n",
    "\n",
    "## 1 - Paralelización (Funciones remotas)\n",
    "\n",
    "Con Ray las funciones se convierten en \"funciones remotas\", y son llamadas `Tareas` (o `Task` por su nombre en ingles). Estas funciones pueden ser ejecutadas de forma paralela. Para ello añadiremos \"@ray.remote\" sobre aquellas funciones que queramos transformar en funciones remotas. Este es un ejemplo de como convertiriamos una funcion regular de Python en una \"función remota\".\n",
    "\n",
    "```python\n",
    "# Función regular de Python.\n",
    "def funcion_regular():\n",
    "    return 1\n",
    "\n",
    "# Función remota de Ray.\n",
    "@ray.remote\n",
    "def funcion_remota():\n",
    "    return 1\n",
    "```\n",
    "\n",
    "A pesar de ser casi identicas a simple vista, una función remota tiene ciertas diferencias en comparación a una funcion regular de Python.\n",
    "\n",
    "1. **Llamada a la función:** La función regular se llama con `funcion_regular()`, mientras que la funcion remota es invocada con `funcion_remota.remote()`.\n",
    "\n",
    "2. **Retornar valores:** `funcion_regular` se ejecuta sincrónicamente y retorna el valor de la función (`1`), mientras que `funcion_remota` retorna inmediatamente un `IdObjeto` (un \"Futuro\") y ejecuta la tarea en segundo plano. El resultado del Futuro retornado se puede obtener llamando `ray.get` on the `ObjectID`.\n",
    "\n",
    "    ```python\n",
    "    >>> funcion_regular()\n",
    "    1  # La funcion regular retorna directamente el resultado de la función\n",
    "    \n",
    "    >>> funcion_remota.remote()\n",
    "    IdObjeto(1c80d6937802cd7786ad25e50caf2f023c95e350) # La funcion remota devuelve el ID del resultado futuro\n",
    "    \n",
    "    >>> ray.get(funcion_remota.remote()) # Obtenemos el resultado haciendo ray.get sobre el ID\n",
    "    1\n",
    "    ```\n",
    "    \n",
    "3. **Paralelismo:** Las ejecuciones de `funcion_regular` son **en serie**:\n",
    "\n",
    "    ```python\n",
    "    # Estas instrucciones son ejecutadas una por una.\n",
    "    result = 0\n",
    "    for _ in range(4):\n",
    "        result += funcion_regular()\n",
    "    assert result == 4\n",
    "    ```\n",
    "    Mientras que las ejecuciones de `funcion_remota` ocurren en **paralelo**:\n",
    "    \n",
    "    ```python\n",
    "    # Estas instrucciones son ejecutadas al mismo tiempo en segundo plano, y los resultados son obtenidos por ray.get.\n",
    "    results = []\n",
    "    for _ in range(4):\n",
    "        results.append(funcion_remota.remote())\n",
    "    assert sum(ray.get(results)) == 4\n",
    "     ```\n",
    "  \n",
    "  \n",
    "**Ejemplo:** A continuación veremos un ejemplo de código para ver como transformaríamos una funcion regular, en una funcion remota, y como esto mejora notoriamente los tiempos de ejecución."
   ]
  },
  {
   "cell_type": "code",
   "execution_count": 1,
   "metadata": {},
   "outputs": [
    {
     "name": "stdout",
     "output_type": "stream",
     "text": [
      "Ray importado con exito!\n"
     ]
    }
   ],
   "source": [
    "from __future__ import absolute_import\n",
    "from __future__ import division\n",
    "from __future__ import print_function\n",
    "\n",
    "import ray\n",
    "import time\n",
    "\n",
    "print('Ray importado con exito!')"
   ]
  },
  {
   "cell_type": "markdown",
   "metadata": {},
   "source": [
    "Por defecto, Ray no ejecuta mas tareas al mismo tiempo que el numero de CPUs, pero este ejemplo requiere que se ejecuten cuatro tareas al mismo tiempo, por lo que le decimos a Ray que hay 4 CPUs."
   ]
  },
  {
   "cell_type": "code",
   "execution_count": 2,
   "metadata": {},
   "outputs": [
    {
     "name": "stderr",
     "output_type": "stream",
     "text": [
      "2021-04-14 23:57:37,669\tINFO services.py:1173 -- View the Ray dashboard at \u001b[1m\u001b[32mhttp://127.0.0.1:8265\u001b[39m\u001b[22m\n"
     ]
    }
   ],
   "source": [
    "ray.init(num_cpus=4, ignore_reinit_error=True)\n",
    "\n",
    "# Aplicamos la funcion Sleep para mejorar la precision de las mediciones de tiempo que se utilizarán, porque es posible\n",
    "# que algunos procesos todavia se esten iniciando en segundo plano.\n",
    "time.sleep(2.0)"
   ]
  },
  {
   "cell_type": "code",
   "execution_count": 3,
   "metadata": {},
   "outputs": [
    {
     "name": "stdout",
     "output_type": "stream",
     "text": [
      "Ejecutar esta iteración tomó 4.029 segundos.\n",
      "Los resultados son: [0, 1, 2, 3]\n"
     ]
    }
   ],
   "source": [
    "# Esta es una función que simula un trabajo mas \"pesado\", que tomaría 1 segundo en ejecutar\n",
    "def funcion_reg(i):\n",
    "    time.sleep(1)\n",
    "    return i\n",
    "\n",
    "start_time = time.time()\n",
    "\n",
    "resultados = []\n",
    "for i in range(4):\n",
    "  resultados.append(funcion_reg(i))\n",
    "  \n",
    "duration = time.time() - start_time # Calculamos el tiempo que tomó en ejecutar esta tarea\n",
    "print('Ejecutar esta iteración tomó {:.3f} segundos.'.format(duration))\n",
    "print('Los resultados son:', resultados)"
   ]
  },
  {
   "cell_type": "markdown",
   "metadata": {},
   "source": [
    "Ahora veremos como se comporta la misma función, pero si le aplicamos Ray:"
   ]
  },
  {
   "cell_type": "code",
   "execution_count": 4,
   "metadata": {},
   "outputs": [
    {
     "name": "stdout",
     "output_type": "stream",
     "text": [
      "Ejecutar esta iteracion tomó 1.137 segundos.\n",
      "Los resultados son: [0, 1, 2, 3]\n"
     ]
    }
   ],
   "source": [
    "@ray.remote  # Agregamos el @ray.remote para indicar que es una funcion remota\n",
    "def funcion_rem(i):\n",
    "    time.sleep(1)\n",
    "    return i\n",
    "\n",
    "start_time = time.time()\n",
    "\n",
    "resultados = []\n",
    "for i in range(4):\n",
    "  resultados.append(funcion_rem.remote(i)) # En esta linea estamos almacenando en el arreglo \"resultados\" los ID de los\n",
    "                                          # objetos (futuros) retornados por la funcion remota (la cual es llamada con .remote)\n",
    "\n",
    "resultados = ray.get(resultados) # Obtenemos el valor de los futuros aplicando el ray.get a los id oobtenidos previamente\n",
    "duration = time.time() - start_time # Calculamos el tiempo de ejecución\n",
    "\n",
    "print('Ejecutar esta iteracion tomó {:.3f} segundos.'.format(duration))\n",
    "print('Los resultados son:', resultados)"
   ]
  },
  {
   "cell_type": "markdown",
   "metadata": {},
   "source": [
    "**Resultado:** Se puede apreciar como con unos pocos cambios de codigo, la ejecución de la función remota fue mas rápida que la función regular, ya que al momento de ejecutar el loop \"for\", Ray realizó las 4 iteraciones en paralelo."
   ]
  },
  {
   "cell_type": "markdown",
   "metadata": {},
   "source": [
    "## 2 - Procesamiento de datos en paralelo\n",
    "\n",
    "La siguiente función remota, retorna el mismo argumento que se le pasa. Si le pasamos un objeto, el resultado obtenido por ray.get debería ser el mismo objeto.\n",
    "\n",
    "```python\n",
    "@ray.remote\n",
    "def f(x): # Le pasamos un objeto por parametro\n",
    "    return x # Retornamos el mismo objeto\n",
    "\n",
    ">>> x1_id = f.remote(1) # El valor retornado por la función es el ID del objeto \n",
    ">>> ray.get(x1_id) # obtenemos su valor utilizando el ray.get\n",
    "1\n",
    "\n",
    ">>> x2_id = f.remote([1, 2, 3])\n",
    ">>> ray.get(x2_id)\n",
    "[1, 2, 3]\n",
    "```\n",
    "\n",
    "Tambien podemos pasar el ID de algun objeto por parametro en una funcion remota. Cuando se ejecute la funcion, Ray automaticamente convertira ese ID en el objeto al que esta referenciando.\n",
    "\n",
    "```python\n",
    ">>> y1_id = f.remote(x1_id) # Le pasamos el id del objeto por parametro y lo almacenamos dentro de una variable \n",
    ">>> ray.get(y1_id) # Al hacer ray.get obetenemos el objeto referenciado\n",
    "1\n",
    "\n",
    ">>> y2_id = f.remote(x2_id)\n",
    ">>> ray.get(y2_id)\n",
    "[1, 2, 3]\n",
    "```\n",
    "\n",
    "En este ultimo ejemplo, la tarea que crea `y1_id` no se ejecutará hasta que finalice de ejecutarse la tarea que crea `x1_id`.\n",
    "\n",
    "**Ejemplo:** Ahora veremos un ejemplo "
   ]
  },
  {
   "cell_type": "code",
   "execution_count": 5,
   "metadata": {},
   "outputs": [],
   "source": [
    "from __future__ import absolute_import\n",
    "from __future__ import division\n",
    "from __future__ import print_function\n",
    "\n",
    "import numpy as np\n",
    "import time\n",
    "\n",
    "import ray"
   ]
  },
  {
   "cell_type": "code",
   "execution_count": 6,
   "metadata": {},
   "outputs": [
    {
     "name": "stderr",
     "output_type": "stream",
     "text": [
      "2021-04-14 23:58:07,706\tINFO worker.py:667 -- Calling ray.init() again after it has already been called.\n"
     ]
    }
   ],
   "source": [
    "ray.init(num_cpus=4, ignore_reinit_error=True)\n",
    "\n",
    "time.sleep(2.0)"
   ]
  },
  {
   "cell_type": "code",
   "execution_count": 7,
   "metadata": {},
   "outputs": [],
   "source": [
    "# Estas funciones simulan procesos mas complicados, usando el time.sleep para que tarden mas en ejecutar.\n",
    "def load_data(filename):\n",
    "    time.sleep(0.1)\n",
    "    return np.ones((1000, 100))\n",
    "\n",
    "def normalize_data(data):\n",
    "    time.sleep(0.1)\n",
    "    return data - np.mean(data, axis=0)\n",
    "\n",
    "def extract_features(normalized_data):\n",
    "    time.sleep(0.1)\n",
    "    return np.hstack([normalized_data, normalized_data ** 2])\n",
    "\n",
    "def compute_loss(features):\n",
    "    num_data, dim = features.shape\n",
    "    time.sleep(0.1)\n",
    "    return np.sum((np.dot(features, np.ones(dim)) - np.ones(num_data)) ** 2)"
   ]
  },
  {
   "cell_type": "code",
   "execution_count": 8,
   "metadata": {},
   "outputs": [
    {
     "name": "stdout",
     "output_type": "stream",
     "text": [
      "Las perdidas son [1000.0, 1000.0, 1000.0, 1000.0].\n",
      "\n",
      "La perdida total es 4000.0. Esto tardó 1.833 segundos.\n"
     ]
    }
   ],
   "source": [
    "start_time = time.time()\n",
    "losses = []\n",
    "for filename in ['file1', 'file2', 'file3', 'file4']:\n",
    "    inner_start = time.time()\n",
    "\n",
    "    data = load_data(filename)\n",
    "    normalized_data = normalize_data(data)\n",
    "    features = extract_features(normalized_data)\n",
    "    loss = compute_loss(features)\n",
    "    losses.append(loss)\n",
    "    \n",
    "    inner_end = time.time()\n",
    "    \n",
    "\n",
    "print('Las perdidas son {}.'.format(losses) + '\\n')\n",
    "loss = sum(losses)\n",
    "\n",
    "duration = time.time() - start_time\n",
    "\n",
    "print('La perdida total es {}. Esto tardó {:.3f} segundos.'.format(loss, duration))"
   ]
  },
  {
   "cell_type": "markdown",
   "metadata": {},
   "source": [
    "**Comparación:** Ahora probemos el mismo ejemplo, pero esta vez utilizando Ray, y veamos como afecta en el tiempo de ejecución"
   ]
  },
  {
   "cell_type": "code",
   "execution_count": 9,
   "metadata": {},
   "outputs": [],
   "source": [
    "@ray.remote # Aplicamos el ray.remote sobre todas las funciones para convertirlas en funciones remotas\n",
    "def load_data(filename):\n",
    "    time.sleep(0.1)\n",
    "    return np.ones((1000, 100))\n",
    "\n",
    "@ray.remote\n",
    "def normalize_data(data):\n",
    "    time.sleep(0.1)\n",
    "    return data - np.mean(data, axis=0)\n",
    "\n",
    "@ray.remote\n",
    "def extract_features(normalized_data):\n",
    "    time.sleep(0.1)\n",
    "    return np.hstack([normalized_data, normalized_data ** 2])\n",
    "\n",
    "@ray.remote\n",
    "def compute_loss(features):\n",
    "    num_data, dim = features.shape\n",
    "    time.sleep(0.1)\n",
    "    return np.sum((np.dot(features, np.ones(dim)) - np.ones(num_data)) ** 2)"
   ]
  },
  {
   "cell_type": "code",
   "execution_count": 10,
   "metadata": {},
   "outputs": [
    {
     "name": "stdout",
     "output_type": "stream",
     "text": [
      "Las perdidas son [1000.0, 1000.0, 1000.0, 1000.0].\n",
      "\n",
      "La perdida total es 4000.0. Esto tardó 0.478 segundos.\n"
     ]
    }
   ],
   "source": [
    "start_time = time.time()\n",
    "losses = []\n",
    "for filename in ['file1', 'file2', 'file3', 'file4']:\n",
    "    inner_start = time.time()\n",
    "\n",
    "    data = load_data.remote(filename)\n",
    "    normalized_data = normalize_data.remote(data)\n",
    "    features = extract_features.remote(normalized_data)\n",
    "    loss = compute_loss.remote(features)\n",
    "    losses.append(loss) \n",
    "    \n",
    "    inner_end = time.time()\n",
    "    \n",
    "        \n",
    "losses = ray.get(losses) # Obtenemos los objetos haciendo ray.get sobre los IDs\n",
    "print('Las perdidas son {}.'.format(losses) + '\\n')\n",
    "loss = sum(losses)\n",
    "\n",
    "duration = time.time() - start_time\n",
    "\n",
    "print('La perdida total es {}. Esto tardó {:.3f} segundos.'.format(loss, duration))"
   ]
  },
  {
   "cell_type": "markdown",
   "metadata": {},
   "source": [
    "## 3 - Paralelismo anidado\n",
    "\n",
    "En este punto veremos como crear tareas anidadas, llamando una funcion remota dentro de otra funcion remota. También veremos unos ejemplos para apreciar mejor como se reducen los tiempos de ejecución.\n",
    "\n",
    "Al igual que las funciones regulares, las funciones remotas pueden llamar a otras funciones remotas, como se muestra en el siguiente ejemplo:\n",
    "\n",
    "```python\n",
    "@ray.remote\n",
    "def f():\n",
    "    return 1\n",
    "\n",
    "@ray.remote\n",
    "def g():\n",
    "    # Llama a la funcion f 4 veces y retorna el arreglo con los IDs de los objetos.\n",
    "    results = []\n",
    "    for _ in range(4):\n",
    "      results.append(f.remote())\n",
    "    return results\n",
    "\n",
    "@ray.remote\n",
    "def h():\n",
    "    # Llama a f 4 veces y antes de retornar el resultado debe esperar a que finalicen las 4 tareas,\n",
    "    # entonces retornará un arreglo con los objetos.\n",
    "    results = []\n",
    "    for _ in range(4):\n",
    "      results.append(f.remote())\n",
    "    return ray.get(results)\n",
    "```\n",
    "\n",
    "Las funciones g() y h() retornarán los siguientes valores\n",
    "\n",
    "```python\n",
    "\n",
    ">>> ray.get(g.remote()) # g retorna un arreglo con los IDs de los objetos, ya que al llamar a f no se aplica ray.remote\n",
    "[ObjectID(b1457ba0911ae84989aae86f89409e953dd9a80e),\n",
    " ObjectID(7c14a1d13a56d8dc01e800761a66f09201104275),\n",
    " ObjectID(99763728ffc1a2c0766a2000ebabded52514e9a6),\n",
    " ObjectID(9c2f372e1933b04b2936bb6f58161285829b9914)]\n",
    "\n",
    ">>> ray.get(h.remote()) # h retorna el arreglo con los objetos que retorna f\n",
    "[1, 1, 1, 1]\n",
    "```\n",
    "\n",
    "**Ejemplo:** Ahora veremos un codigo ejecutable para apreciar de mejor manera como se paraleliza un codigo con funciones anidadas."
   ]
  },
  {
   "cell_type": "code",
   "execution_count": 11,
   "metadata": {},
   "outputs": [],
   "source": [
    "from __future__ import absolute_import\n",
    "from __future__ import division\n",
    "from __future__ import print_function\n",
    "\n",
    "import numpy as np\n",
    "import time\n",
    "\n",
    "import ray"
   ]
  },
  {
   "cell_type": "code",
   "execution_count": 12,
   "metadata": {},
   "outputs": [
    {
     "name": "stderr",
     "output_type": "stream",
     "text": [
      "2021-04-15 00:00:09,634\tINFO worker.py:667 -- Calling ray.init() again after it has already been called.\n"
     ]
    }
   ],
   "source": [
    "ray.init(num_cpus=9, ignore_reinit_error=True)\n",
    "\n",
    "time.sleep(2.0)"
   ]
  },
  {
   "cell_type": "code",
   "execution_count": 13,
   "metadata": {},
   "outputs": [],
   "source": [
    "def compute_gradient(data, current_model):\n",
    "    time.sleep(0.03)\n",
    "    return 1\n",
    "\n",
    "def train_model(hyperparameters):\n",
    "    current_model = 0\n",
    "    for _ in range(10):\n",
    "        gradients = []\n",
    "        for j in range(2):\n",
    "            gradients.append(compute_gradient(j, current_model))\n",
    "        current_model += sum(gradients)\n",
    "\n",
    "    return current_model\n"
   ]
  },
  {
   "cell_type": "code",
   "execution_count": 14,
   "metadata": {},
   "outputs": [
    {
     "name": "stdout",
     "output_type": "stream",
     "text": [
      "El resultado es [20, 20, 20]. Esto tardó 1.912 segundos.\n"
     ]
    }
   ],
   "source": [
    "# Sleep a little to improve the accuracy of the timing measurements below.\n",
    "time.sleep(2.0)\n",
    "start_time = time.time()\n",
    "\n",
    "# Run some hyperparaameter experiments.\n",
    "results = []\n",
    "for hyperparameters in [{'learning_rate': 1e-1, 'batch_size': 100},\n",
    "                        {'learning_rate': 1e-2, 'batch_size': 100},\n",
    "                        {'learning_rate': 1e-3, 'batch_size': 100}]:\n",
    "    results.append(train_model(hyperparameters))\n",
    "\n",
    "end_time = time.time()\n",
    "duration = end_time - start_time\n",
    "\n",
    "print('El resultado es {}. Esto tardó {:.3f} segundos.'.format(results, duration))"
   ]
  },
  {
   "cell_type": "markdown",
   "metadata": {},
   "source": [
    "**Comparación:** Veamos ahora como se comportaría este mismo codigo si le aplicamos Ray."
   ]
  },
  {
   "cell_type": "code",
   "execution_count": 19,
   "metadata": {},
   "outputs": [],
   "source": [
    "@ray.remote\n",
    "def compute_gradient(data, current_model):\n",
    "    time.sleep(0.03)\n",
    "    return 1\n",
    "\n",
    "@ray.remote\n",
    "def train_model(hyperparameters):\n",
    "    current_model = 0\n",
    "    for _ in range(10):\n",
    "        gradients = []\n",
    "        for j in range(2):\n",
    "            gradients.append(compute_gradient.remote(j, current_model))\n",
    "        current_model += sum(gradients)\n",
    "\n",
    "    return current_model"
   ]
  },
  {
   "cell_type": "code",
   "execution_count": 20,
   "metadata": {},
   "outputs": [
    {
     "name": "stdout",
     "output_type": "stream",
     "text": [
      "El resultado es [20, 20, 20]. Esto tardó 2.515 segundos.\n"
     ]
    }
   ],
   "source": [
    "# Sleep a little to improve the accuracy of the timing measurements below.\n",
    "time.sleep(2.0)\n",
    "start_time = time.time()\n",
    "\n",
    "# Run some hyperparaameter experiments.\n",
    "results = []\n",
    "for hyperparameters in [{'learning_rate': 1e-1, 'batch_size': 100},\n",
    "                        {'learning_rate': 1e-2, 'batch_size': 100},\n",
    "                        {'learning_rate': 1e-3, 'batch_size': 100}]:\n",
    "    results.append(train_model.remote(hyperparameters))\n",
    "\n",
    "\n",
    "results = ray.get(results)\n",
    "end_time = time.time()\n",
    "duration = end_time - start_time\n",
    "\n",
    "print('El resultado es {}. Esto tardó {:.3f} segundos.'.format(results, duration))"
   ]
  },
  {
   "cell_type": "markdown",
   "metadata": {},
   "source": [
    "## 4 - Actores\n",
    "\n",
    "En Ray, un Actor es muy parecido a lo que es una clase normal de Python. Se inicializa de la misma manera (con la función `__init__` ) y puede contener funciones internas, a las que se deben acceder con los metodos remotos.\n",
    "\n",
    "Para crear un Actor solo debemos colocar el `@ray.remote` sobre una clase, como se muestra en el siguiente ejemplo:\n",
    "\n",
    "```python\n",
    "@ray.remote\n",
    "class Example(object):\n",
    "    def __init__(self, x):\n",
    "        self.x = x\n",
    "    \n",
    "    def set(self, x):\n",
    "        self.x = x\n",
    "    \n",
    "    def get(self):\n",
    "        return self.x\n",
    "```\n",
    "Un Actor se diferencia de una clase regular de Python en algunos puntos muy especificos que se presentan a continuación:\n",
    "\n",
    "1. **Instanciación:** Una clase regular de Python es instanciada con: `e = Example(1)` \n",
    "\n",
    "    Mientras que un Actor se instancia con el metodo remoto:  `e = Example.remote(1)`\n",
    "    \n",
    "\n",
    "2. **Invocación de metodos:** Los metodos de una clase regular serían invocados con `e.set(2)` o `e.get()`, mientras que los metodos de un Actor serían invocados de la siguiente manera:\n",
    "\n",
    "    ```python\n",
    "        >>> e.set.remote(2)\n",
    "        ObjectID(d966aa9b6486331dc2257522734a69ff603e5a1c)\n",
    "    \n",
    "        >>> e.get.remote()\n",
    "        ObjectID(7c432c085864ed4c7c18cf112377a608676afbc3)\n",
    "    ```\n",
    "\n",
    "3. **Retornar valores:** Los metodos de un Actor retornar de manera inmediata el ID del objeto resultante. Este resultado se puede obtener mediante el `ray.get`.\n",
    "\n",
    "    ```python\n",
    "        >>> ray.get(e.set.remote(2))\n",
    "        None\n",
    "    \n",
    "        >>> ray.get(e.get.remote())\n",
    "        2\n",
    "    ```\n",
    "\n",
    "**Ejemplo:** Ahora veremos un ejemplo de como aplicar los Actores de Ray:"
   ]
  },
  {
   "cell_type": "code",
   "execution_count": 2,
   "metadata": {},
   "outputs": [
    {
     "name": "stdout",
     "output_type": "stream",
     "text": [
      "Ray importado con exito!\n"
     ]
    }
   ],
   "source": [
    "from __future__ import absolute_import\n",
    "from __future__ import division\n",
    "from __future__ import print_function\n",
    "\n",
    "from collections import defaultdict\n",
    "import numpy as np\n",
    "import time\n",
    "\n",
    "import ray\n",
    "\n",
    "print('Ray importado con exito!')"
   ]
  },
  {
   "cell_type": "code",
   "execution_count": 3,
   "metadata": {},
   "outputs": [
    {
     "name": "stderr",
     "output_type": "stream",
     "text": [
      "2021-04-16 04:30:31,696\tINFO services.py:1173 -- View the Ray dashboard at \u001b[1m\u001b[32mhttp://127.0.0.1:8265\u001b[39m\u001b[22m\n"
     ]
    },
    {
     "data": {
      "text/plain": [
       "{'node_ip_address': '192.168.0.104',\n",
       " 'raylet_ip_address': '192.168.0.104',\n",
       " 'redis_address': '192.168.0.104:6379',\n",
       " 'object_store_address': 'tcp://127.0.0.1:64623',\n",
       " 'raylet_socket_name': 'tcp://127.0.0.1:58399',\n",
       " 'webui_url': '127.0.0.1:8265',\n",
       " 'session_dir': 'C:\\\\Users\\\\vicen\\\\AppData\\\\Local\\\\Temp\\\\ray\\\\session_2021-04-16_04-30-28_385141_996',\n",
       " 'metrics_export_port': 64469,\n",
       " 'node_id': '1bd7eed63683c87de73446c4cae35011150385da'}"
      ]
     },
     "execution_count": 3,
     "metadata": {},
     "output_type": "execute_result"
    }
   ],
   "source": [
    "ray.init(num_cpus=4, ignore_reinit_error=True)"
   ]
  },
  {
   "cell_type": "code",
   "execution_count": 10,
   "metadata": {},
   "outputs": [],
   "source": [
    "class Foo(object):\n",
    "    def __init__(self):\n",
    "        self.counter = 0\n",
    "\n",
    "    def reset(self):\n",
    "        self.counter = 0\n",
    "\n",
    "    def increment(self):\n",
    "        time.sleep(0.5)\n",
    "        self.counter += 1\n",
    "        return self.counter"
   ]
  },
  {
   "cell_type": "code",
   "execution_count": 11,
   "metadata": {},
   "outputs": [
    {
     "name": "stderr",
     "output_type": "stream",
     "text": [
      "\u001b[2m\u001b[36m(pid=3860)\u001b[0m Windows fatal exception: access violation\n",
      "\u001b[2m\u001b[36m(pid=3860)\u001b[0m \n",
      "\u001b[2m\u001b[36m(pid=1292)\u001b[0m Windows fatal exception: access violation\n",
      "\u001b[2m\u001b[36m(pid=1292)\u001b[0m \n"
     ]
    }
   ],
   "source": [
    "# Creamos dos objetos de la clase Foo\n",
    "f1 = Foo()\n",
    "f2 = Foo()"
   ]
  },
  {
   "cell_type": "code",
   "execution_count": 12,
   "metadata": {},
   "outputs": [
    {
     "name": "stdout",
     "output_type": "stream",
     "text": [
      "Los resultados son: [1, 1, 2, 2, 3, 3, 4, 4, 5, 5]. Esto tardó 5.087 segundos\n"
     ]
    }
   ],
   "source": [
    "start_time = time.time()\n",
    "\n",
    "f1.reset()\n",
    "f2.reset()\n",
    "\n",
    "results = []\n",
    "for _ in range(5): # Incrementaremos 1 en 1 el estado de los objetos hasta llegar a 5.\n",
    "    results.append(f1.increment())\n",
    "    results.append(f2.increment())\n",
    "\n",
    "duration = time.time() - start_time # Calculamos el tiempo de ejecución de este ejemplo.\n",
    "\n",
    "print('Los resultados son: {}. Esto tardó {:.3f} segundos'.format(results, duration))"
   ]
  },
  {
   "cell_type": "markdown",
   "metadata": {},
   "source": [
    "**Comparación:** Ahora veremos como funciona si usamos actores en lugar de clases"
   ]
  },
  {
   "cell_type": "code",
   "execution_count": 7,
   "metadata": {},
   "outputs": [],
   "source": [
    "@ray.remote\n",
    "class Foo(object):\n",
    "    def __init__(self):\n",
    "        self.counter = 0\n",
    "\n",
    "    def reset(self):\n",
    "        self.counter = 0\n",
    "\n",
    "    def increment(self):\n",
    "        time.sleep(0.5)\n",
    "        self.counter += 1\n",
    "        return self.counter"
   ]
  },
  {
   "cell_type": "code",
   "execution_count": 8,
   "metadata": {},
   "outputs": [],
   "source": [
    "# Creamos dos actores\n",
    "f1 = Foo.remote()\n",
    "f2 = Foo.remote()"
   ]
  },
  {
   "cell_type": "code",
   "execution_count": 9,
   "metadata": {},
   "outputs": [
    {
     "name": "stdout",
     "output_type": "stream",
     "text": [
      "Los resultados son: [1, 1, 2, 2, 3, 3, 4, 4, 5, 5]. Esto tardó 2.736 segundos\n"
     ]
    }
   ],
   "source": [
    "start_time = time.time()\n",
    "\n",
    "# Reiniciamos el estado del actor y asi podemos correr esta celda multiples veces sin cambiar los resultados.\n",
    "f1.reset.remote()\n",
    "f2.reset.remote()\n",
    "\n",
    "results = []\n",
    "for _ in range(5):\n",
    "    results.append(f1.increment.remote()) # Llenamos el arreglo results con los ID retornados por los metodos del actor\n",
    "    results.append(f2.increment.remote())    \n",
    "    \n",
    "results = ray.get(results) # Obtenemos el valor de los resultados retornados por los metodos del Actor\n",
    "                           # usando ray.get\n",
    "\n",
    "duration = time.time() - start_time\n",
    "\n",
    "print('Los resultados son: {}. Esto tardó {:.3f} segundos'.format(results, duration))"
   ]
  },
  {
   "cell_type": "markdown",
   "metadata": {},
   "source": [
    "## 5 - Compartir referencias a un Actor\n",
    "\n",
    "Supongamos que en algun momento queramos tener varias tareas remotas que invocan metodos en el mismo actor. Para esto, podemos pasar el identificador del Actor como un argumento para las tareas.\n",
    "\n",
    "Primero creamos el actor de la siguiente manera:\n",
    "\n",
    "```python\n",
    "@ray.remote\n",
    "class Actor(object):\n",
    "    def method(self):\n",
    "        pass\n",
    "\n",
    "# Creamos el actor\n",
    "actor = Actor.remote()\n",
    "```\n",
    "Luego, definimos una funcion remota que reciba un identificador del actor como argumento\n",
    "\n",
    "\n",
    "```python\n",
    "@ray.remote\n",
    "def f(actor):\n",
    "    # Podemos invocar un metodo en el actor y esperar sus resultados\n",
    "    return ray.get(actor.method.remote())\n",
    "```\n",
    "\n",
    "Despues podemos invocar la funcion remota varias veces y pasarle el identificador del actor como argumento\n",
    "\n",
    "```python\n",
    "# Cada una de estas funciones remotas invocará metodos en el mismo actor.\n",
    "f.remote(actor)\n",
    "f.remote(actor)\n",
    "f.remote(actor)\n",
    "```\n",
    "\n",
    "**Ejemplo:** Ahora veremos un ejemplo de como compartir referencias usando actores"
   ]
  },
  {
   "cell_type": "code",
   "execution_count": 34,
   "metadata": {},
   "outputs": [],
   "source": [
    "@ray.remote\n",
    "class LoggingActor(object):\n",
    "    def __init__(self):\n",
    "        self.logs = defaultdict(lambda: [])\n",
    "    \n",
    "    def log(self, index, message):\n",
    "        self.logs[index].append(message)\n",
    "    \n",
    "    def get_logs(self):\n",
    "        return dict(self.logs)\n"
   ]
  },
  {
   "cell_type": "code",
   "execution_count": 35,
   "metadata": {},
   "outputs": [],
   "source": [
    "logging_actor = LoggingActor.remote()"
   ]
  },
  {
   "cell_type": "code",
   "execution_count": 36,
   "metadata": {},
   "outputs": [],
   "source": [
    "@ray.remote\n",
    "def run_experiment(experiment_index, logging_actor):\n",
    "    for i in range(60):\n",
    "        time.sleep(1)\n",
    "        # Push a logging message to the actor.\n",
    "        logging_actor.log.remote(experiment_index, 'On iteration {}'.format(i))"
   ]
  },
  {
   "cell_type": "code",
   "execution_count": 37,
   "metadata": {},
   "outputs": [],
   "source": [
    "experiment_ids = [run_experiment.remote(i, logging_actor) for i in range(3)]"
   ]
  },
  {
   "cell_type": "code",
   "execution_count": 42,
   "metadata": {},
   "outputs": [
    {
     "data": {
      "text/plain": [
       "{0: ['On iteration 0',\n",
       "  'On iteration 1',\n",
       "  'On iteration 2',\n",
       "  'On iteration 3',\n",
       "  'On iteration 4',\n",
       "  'On iteration 5',\n",
       "  'On iteration 6',\n",
       "  'On iteration 7',\n",
       "  'On iteration 8',\n",
       "  'On iteration 9',\n",
       "  'On iteration 10',\n",
       "  'On iteration 11',\n",
       "  'On iteration 12',\n",
       "  'On iteration 13',\n",
       "  'On iteration 14',\n",
       "  'On iteration 15',\n",
       "  'On iteration 16',\n",
       "  'On iteration 17',\n",
       "  'On iteration 18',\n",
       "  'On iteration 19',\n",
       "  'On iteration 20',\n",
       "  'On iteration 21',\n",
       "  'On iteration 22',\n",
       "  'On iteration 23',\n",
       "  'On iteration 24',\n",
       "  'On iteration 25',\n",
       "  'On iteration 26',\n",
       "  'On iteration 27',\n",
       "  'On iteration 28',\n",
       "  'On iteration 29',\n",
       "  'On iteration 30',\n",
       "  'On iteration 31',\n",
       "  'On iteration 32',\n",
       "  'On iteration 33',\n",
       "  'On iteration 34',\n",
       "  'On iteration 35',\n",
       "  'On iteration 36',\n",
       "  'On iteration 37',\n",
       "  'On iteration 38',\n",
       "  'On iteration 39',\n",
       "  'On iteration 40',\n",
       "  'On iteration 41',\n",
       "  'On iteration 42',\n",
       "  'On iteration 43',\n",
       "  'On iteration 44',\n",
       "  'On iteration 45',\n",
       "  'On iteration 46',\n",
       "  'On iteration 47',\n",
       "  'On iteration 48',\n",
       "  'On iteration 49',\n",
       "  'On iteration 50',\n",
       "  'On iteration 51',\n",
       "  'On iteration 52',\n",
       "  'On iteration 53',\n",
       "  'On iteration 54',\n",
       "  'On iteration 55',\n",
       "  'On iteration 56',\n",
       "  'On iteration 57',\n",
       "  'On iteration 58',\n",
       "  'On iteration 59'],\n",
       " 1: ['On iteration 0',\n",
       "  'On iteration 1',\n",
       "  'On iteration 2',\n",
       "  'On iteration 3',\n",
       "  'On iteration 4',\n",
       "  'On iteration 5',\n",
       "  'On iteration 6',\n",
       "  'On iteration 7',\n",
       "  'On iteration 8',\n",
       "  'On iteration 9',\n",
       "  'On iteration 10',\n",
       "  'On iteration 11',\n",
       "  'On iteration 12',\n",
       "  'On iteration 13',\n",
       "  'On iteration 14',\n",
       "  'On iteration 15',\n",
       "  'On iteration 16',\n",
       "  'On iteration 17',\n",
       "  'On iteration 18',\n",
       "  'On iteration 19',\n",
       "  'On iteration 20',\n",
       "  'On iteration 21',\n",
       "  'On iteration 22',\n",
       "  'On iteration 23',\n",
       "  'On iteration 24',\n",
       "  'On iteration 25',\n",
       "  'On iteration 26',\n",
       "  'On iteration 27',\n",
       "  'On iteration 28',\n",
       "  'On iteration 29',\n",
       "  'On iteration 30',\n",
       "  'On iteration 31',\n",
       "  'On iteration 32',\n",
       "  'On iteration 33',\n",
       "  'On iteration 34',\n",
       "  'On iteration 35',\n",
       "  'On iteration 36',\n",
       "  'On iteration 37',\n",
       "  'On iteration 38',\n",
       "  'On iteration 39',\n",
       "  'On iteration 40',\n",
       "  'On iteration 41',\n",
       "  'On iteration 42',\n",
       "  'On iteration 43',\n",
       "  'On iteration 44',\n",
       "  'On iteration 45',\n",
       "  'On iteration 46',\n",
       "  'On iteration 47',\n",
       "  'On iteration 48',\n",
       "  'On iteration 49',\n",
       "  'On iteration 50',\n",
       "  'On iteration 51',\n",
       "  'On iteration 52',\n",
       "  'On iteration 53',\n",
       "  'On iteration 54',\n",
       "  'On iteration 55',\n",
       "  'On iteration 56',\n",
       "  'On iteration 57',\n",
       "  'On iteration 58',\n",
       "  'On iteration 59'],\n",
       " 2: ['On iteration 0',\n",
       "  'On iteration 1',\n",
       "  'On iteration 2',\n",
       "  'On iteration 3',\n",
       "  'On iteration 4',\n",
       "  'On iteration 5',\n",
       "  'On iteration 6',\n",
       "  'On iteration 7',\n",
       "  'On iteration 8',\n",
       "  'On iteration 9',\n",
       "  'On iteration 10',\n",
       "  'On iteration 11',\n",
       "  'On iteration 12',\n",
       "  'On iteration 13',\n",
       "  'On iteration 14',\n",
       "  'On iteration 15',\n",
       "  'On iteration 16',\n",
       "  'On iteration 17',\n",
       "  'On iteration 18',\n",
       "  'On iteration 19',\n",
       "  'On iteration 20',\n",
       "  'On iteration 21',\n",
       "  'On iteration 22',\n",
       "  'On iteration 23',\n",
       "  'On iteration 24',\n",
       "  'On iteration 25',\n",
       "  'On iteration 26',\n",
       "  'On iteration 27',\n",
       "  'On iteration 28',\n",
       "  'On iteration 29',\n",
       "  'On iteration 30',\n",
       "  'On iteration 31',\n",
       "  'On iteration 32',\n",
       "  'On iteration 33',\n",
       "  'On iteration 34',\n",
       "  'On iteration 35',\n",
       "  'On iteration 36',\n",
       "  'On iteration 37',\n",
       "  'On iteration 38',\n",
       "  'On iteration 39',\n",
       "  'On iteration 40',\n",
       "  'On iteration 41',\n",
       "  'On iteration 42',\n",
       "  'On iteration 43',\n",
       "  'On iteration 44',\n",
       "  'On iteration 45',\n",
       "  'On iteration 46',\n",
       "  'On iteration 47',\n",
       "  'On iteration 48',\n",
       "  'On iteration 49',\n",
       "  'On iteration 50',\n",
       "  'On iteration 51',\n",
       "  'On iteration 52',\n",
       "  'On iteration 53',\n",
       "  'On iteration 54',\n",
       "  'On iteration 55',\n",
       "  'On iteration 56',\n",
       "  'On iteration 57',\n",
       "  'On iteration 58',\n",
       "  'On iteration 59']}"
      ]
     },
     "execution_count": 42,
     "metadata": {},
     "output_type": "execute_result"
    }
   ],
   "source": [
    "logs = logging_actor.get_logs.remote()\n",
    "logs = ray.get(logs)\n",
    "\n",
    "logs"
   ]
  },
  {
   "cell_type": "markdown",
   "metadata": {},
   "source": [
    "**Resultado:** Prueba ejecutando la ultima instruccion reiteradas veces y mira como cambian los resultados de salida."
   ]
  },
  {
   "cell_type": "markdown",
   "metadata": {},
   "source": [
    "## 6 - Ray.wait\n",
    "\n",
    "Luego de ejecutar un numero de tareas, en ciertos casos querrás saber cuales fueron las que terminaron primero en ejecutar. Esto se puede resolver usando `ray.wait`. Esta funcion se utiliza de la siguiente manera:\n",
    "\n",
    "    ids_listos, ids_restantes = ray.wait(ids_totales, num_retornos = 1, timeout = None)\n",
    "    \n",
    "Donde\n",
    "\n",
    "**Argumentos:**\n",
    "- ids_totales = Es una lista de ids de objetos.\n",
    "- num_retornos = Este es el numero maximo de IDs a esperar que terminen.\n",
    "- timeout = Esta es la cantidad de tiempo maxima (en milisegundos) a esperar. Ray.wait esperará hasta que los num_retornos objetos esten listos, o hasta que el tiempo estipulado en timeout haya pasado.\n",
    "\n",
    "**Valores retornados:**\n",
    "- ids_listos = Esta es una lista de objetos que estan disponibles.\n",
    "- ids_restantes = Es la lista de objetos que que restan de los ids_totales.\n",
    "\n",
    "En pocas palabras, a este metodo le debemos pasar como argumento una lista de ids, y ray.wait guardará en ids_listos todos aquellos objetos que ya esten disponibles, y en ids_restantes todos los que van quedando.\n",
    "\n",
    "**Ejemplo:** Ahora veremos un ejemplo de como aplicar ray.wait para cambiar los resultados a obtener."
   ]
  },
  {
   "cell_type": "code",
   "execution_count": 43,
   "metadata": {},
   "outputs": [
    {
     "name": "stdout",
     "output_type": "stream",
     "text": [
      "Successfully imported ray!\n"
     ]
    }
   ],
   "source": [
    "from __future__ import absolute_import\n",
    "from __future__ import division\n",
    "from __future__ import print_function\n",
    "\n",
    "import numpy as np\n",
    "import ray\n",
    "import time\n",
    "\n",
    "print('Successfully imported ray!')"
   ]
  },
  {
   "cell_type": "code",
   "execution_count": 44,
   "metadata": {},
   "outputs": [
    {
     "name": "stderr",
     "output_type": "stream",
     "text": [
      "2021-04-16 05:32:19,521\tINFO worker.py:667 -- Calling ray.init() again after it has already been called.\n"
     ]
    }
   ],
   "source": [
    "ray.init(num_cpus=6, ignore_reinit_error=True)\n",
    "\n",
    "# Sleep a little to improve the accuracy of the timing measurements used below,\n",
    "# because some workers may still be starting up in the background.\n",
    "time.sleep(2.0)"
   ]
  },
  {
   "cell_type": "code",
   "execution_count": 49,
   "metadata": {},
   "outputs": [],
   "source": [
    "@ray.remote\n",
    "def f(i):\n",
    "    np.random.seed(5 + i)\n",
    "    x = np.random.uniform(0, 4)\n",
    "    time.sleep(x)\n",
    "    return i, time.time()"
   ]
  },
  {
   "cell_type": "code",
   "execution_count": 50,
   "metadata": {},
   "outputs": [
    {
     "name": "stdout",
     "output_type": "stream",
     "text": [
      "[(0, 1618565606.741766), (1, 1618565609.4293647), (2, 1618565606.1633282)]\n"
     ]
    }
   ],
   "source": [
    "start_time = time.time()\n",
    "\n",
    "# This launches 6 tasks, each of which takes a random amount of time to\n",
    "# complete.\n",
    "result_ids = [f.remote(i) for i in range(6)]\n",
    "# Get one batch of tasks. Instead of waiting for a fixed subset of tasks, we\n",
    "# should instead use the first 3 tasks that finish.\n",
    "initial_results = ray.get(result_ids[:3])\n",
    "\n",
    "print(initial_results)\n",
    "\n",
    "end_time = time.time()\n",
    "duration = end_time - start_time"
   ]
  },
  {
   "cell_type": "code",
   "execution_count": 51,
   "metadata": {},
   "outputs": [
    {
     "name": "stdout",
     "output_type": "stream",
     "text": [
      "[(3, 1618565609.6735802), (4, 1618565606.7887244), (5, 1618565609.8779786)]\n"
     ]
    }
   ],
   "source": [
    "remaining_results = ray.get(result_ids[3:])\n",
    "print(remaining_results)"
   ]
  },
  {
   "cell_type": "code",
   "execution_count": 52,
   "metadata": {},
   "outputs": [
    {
     "name": "stdout",
     "output_type": "stream",
     "text": [
      "Success! The example took 3.6112260818481445 seconds.\n"
     ]
    }
   ],
   "source": [
    "initial_indices = [result[0] for result in initial_results]\n",
    "initial_times = [result[1] for result in initial_results]\n",
    "remaining_indices = [result[0] for result in remaining_results]\n",
    "remaining_times = [result[1] for result in remaining_results]\n",
    "\n",
    "print('Este ejemplo tardó {} segundos.'.format(duration))"
   ]
  },
  {
   "cell_type": "markdown",
   "metadata": {},
   "source": [
    "Ahora el mismo codigo, pero utilizando la funcion ray.wait"
   ]
  },
  {
   "cell_type": "code",
   "execution_count": 53,
   "metadata": {},
   "outputs": [],
   "source": [
    "@ray.remote\n",
    "def f(i):\n",
    "    np.random.seed(5 + i)\n",
    "    x = np.random.uniform(0, 4)\n",
    "    time.sleep(x)\n",
    "    return i, time.time()"
   ]
  },
  {
   "cell_type": "code",
   "execution_count": 54,
   "metadata": {},
   "outputs": [
    {
     "name": "stdout",
     "output_type": "stream",
     "text": [
      "[(0, 1618565879.3418486), (2, 1618565878.7677207), (4, 1618565879.3895175)]\n"
     ]
    }
   ],
   "source": [
    "start_time = time.time()\n",
    "\n",
    "# This launches 6 tasks, each of which takes a random amount of time to\n",
    "# complete.\n",
    "result_ids = [f.remote(i) for i in range(6)]\n",
    "# Get one batch of tasks. Instead of waiting for a fixed subset of tasks, we\n",
    "# should instead use the first 3 tasks that finish.\n",
    "initial_results, remaining_results = ray.wait(result_ids, num_returns = 3, timeout = None)\n",
    "initial_results = ray.get(initial_results)\n",
    "\n",
    "print(initial_results)\n",
    "\n",
    "end_time = time.time()\n",
    "duration = end_time - start_time"
   ]
  },
  {
   "cell_type": "code",
   "execution_count": 55,
   "metadata": {},
   "outputs": [
    {
     "name": "stdout",
     "output_type": "stream",
     "text": [
      "[(1, 1618565882.025153), (3, 1618565882.2723637), (5, 1618565882.491053)]\n"
     ]
    }
   ],
   "source": [
    "remaining_results = ray.get(remaining_results)\n",
    "print(remaining_results)"
   ]
  },
  {
   "cell_type": "code",
   "execution_count": 56,
   "metadata": {},
   "outputs": [
    {
     "name": "stdout",
     "output_type": "stream",
     "text": [
      "Este ejemplo tardó 0.9705512523651123 segundos.\n"
     ]
    }
   ],
   "source": [
    "initial_indices = [result[0] for result in initial_results]\n",
    "initial_times = [result[1] for result in initial_results]\n",
    "remaining_indices = [result[0] for result in remaining_results]\n",
    "remaining_times = [result[1] for result in remaining_results]\n",
    "\n",
    "print('Este ejemplo tardó {} segundos.'.format(duration))"
   ]
  },
  {
   "cell_type": "markdown",
   "metadata": {},
   "source": [
    "## 7 - Procesar tareas en orden de termino\n",
    "\n",
    "Ahora veremos un ejemplo de como utilizar ray.wait para procesar tareas en el orden en que terminan.\n",
    "Primero veamos un codigo sin ray.wait y veamos como procesa sus tareas:"
   ]
  },
  {
   "cell_type": "code",
   "execution_count": 65,
   "metadata": {},
   "outputs": [],
   "source": [
    "from __future__ import absolute_import\n",
    "from __future__ import division\n",
    "from __future__ import print_function\n",
    "\n",
    "import numpy as np\n",
    "import ray\n",
    "import time"
   ]
  },
  {
   "cell_type": "code",
   "execution_count": 66,
   "metadata": {},
   "outputs": [
    {
     "name": "stderr",
     "output_type": "stream",
     "text": [
      "2021-04-16 05:48:18,889\tINFO worker.py:667 -- Calling ray.init() again after it has already been called.\n"
     ]
    }
   ],
   "source": [
    "ray.init(num_cpus=5,  ignore_reinit_error=True)"
   ]
  },
  {
   "cell_type": "code",
   "execution_count": 67,
   "metadata": {},
   "outputs": [],
   "source": [
    "@ray.remote\n",
    "def f():\n",
    "    time.sleep(np.random.uniform(0, 5))\n",
    "    return time.time()"
   ]
  },
  {
   "cell_type": "code",
   "execution_count": 68,
   "metadata": {},
   "outputs": [
    {
     "name": "stdout",
     "output_type": "stream",
     "text": [
      "Processing result which finished after 0.884099006652832 seconds.\n",
      "Processing result which finished after 2.6905689239501953 seconds.\n",
      "Processing result which finished after 4.868346214294434 seconds.\n",
      "Processing result which finished after 1.3337371349334717 seconds.\n",
      "Processing result which finished after 4.77510404586792 seconds.\n",
      "Processing result which finished after 4.944920063018799 seconds.\n",
      "Processing result which finished after 9.580554962158203 seconds.\n",
      "Processing result which finished after 9.549487113952637 seconds.\n",
      "Processing result which finished after 9.757725954055786 seconds.\n",
      "Processing result which finished after 7.068840980529785 seconds.\n"
     ]
    }
   ],
   "source": [
    "start_time = time.time()\n",
    "\n",
    "remaining_result_ids = [f.remote() for _ in range(10)]\n",
    "\n",
    "# Get the results.\n",
    "results = []\n",
    "while len(remaining_result_ids) > 0:\n",
    "    # EXERCISE: Instead of simply waiting for the first result from\n",
    "    # remaining_result_ids, use ray.wait to get the first one to finish.\n",
    "    result_id = remaining_result_ids[0]\n",
    "    remaining_result_ids = remaining_result_ids[1:]\n",
    "    result = ray.get(result_id)\n",
    "    results.append(result)\n",
    "    print('Este procesamiento terminó en {} segundos.'\n",
    "          .format(result - start_time))    \n",
    "\n",
    "end_time = time.time()\n",
    "duration = end_time - start_time"
   ]
  },
  {
   "cell_type": "code",
   "execution_count": 69,
   "metadata": {},
   "outputs": [
    {
     "name": "stdout",
     "output_type": "stream",
     "text": [
      "Este ejemplo tardó 9.758952856063843 segundos.\n"
     ]
    }
   ],
   "source": [
    "print('Este ejemplo tardó {} segundos.'.format(duration))"
   ]
  },
  {
   "cell_type": "markdown",
   "metadata": {},
   "source": [
    "En este ejemplo de arriba podemos ver como los resultados fueron procesados en el orden que son ejecutados, y no en el orden en que terminaron. Esto se puede cambiar utilizando ray.wait de la siguiente forma:"
   ]
  },
  {
   "cell_type": "code",
   "execution_count": 70,
   "metadata": {},
   "outputs": [],
   "source": [
    "@ray.remote\n",
    "def f():\n",
    "    time.sleep(np.random.uniform(0, 5))\n",
    "    return time.time()"
   ]
  },
  {
   "cell_type": "code",
   "execution_count": 71,
   "metadata": {},
   "outputs": [
    {
     "name": "stdout",
     "output_type": "stream",
     "text": [
      "Processing result which finished after 0.04191732406616211 seconds.\n",
      "Processing result which finished after 2.5301694869995117 seconds.\n",
      "Processing result which finished after 2.6169867515563965 seconds.\n",
      "Processing result which finished after 4.4124579429626465 seconds.\n",
      "Processing result which finished after 6.3186116218566895 seconds.\n",
      "Processing result which finished after 6.681273698806763 seconds.\n",
      "Processing result which finished after 7.188187837600708 seconds.\n",
      "Processing result which finished after 8.670400381088257 seconds.\n",
      "Processing result which finished after 9.754715204238892 seconds.\n",
      "Processing result which finished after 10.377838373184204 seconds.\n"
     ]
    }
   ],
   "source": [
    "start_time = time.time()\n",
    "\n",
    "remaining_result_ids = [f.remote() for _ in range(10)]\n",
    "\n",
    "# Get the results.\n",
    "results = []\n",
    "while len(remaining_result_ids) > 0:\n",
    "    # EXERCISE: Instead of simply waiting for the first result from\n",
    "    # remaining_result_ids, use ray.wait to get the first one to finish.\n",
    "    result_id, remaining_result_ids = ray.wait(remaining_result_ids, num_returns = 1, timeout = None)\n",
    "    result = ray.get(result_id)[0]\n",
    "    results.append(result)\n",
    "    print('Este procesamiento terminó en {} segundos.'\n",
    "          .format(result - start_time))    \n",
    "\n",
    "end_time = time.time()\n",
    "duration = end_time - start_time"
   ]
  },
  {
   "cell_type": "code",
   "execution_count": 72,
   "metadata": {},
   "outputs": [
    {
     "name": "stdout",
     "output_type": "stream",
     "text": [
      "Este ejemplo tardó 10.377838373184204 segundos.\n"
     ]
    }
   ],
   "source": [
    "print('Este ejemplo tardó {} segundos.'.format(duration))"
   ]
  },
  {
   "cell_type": "markdown",
   "metadata": {},
   "source": [
    "Podemos ver ahora como los resutaldos fueron procesados en el orden en que finalizaron."
   ]
  },
  {
   "cell_type": "code",
   "execution_count": null,
   "metadata": {},
   "outputs": [],
   "source": []
  }
 ],
 "metadata": {
  "kernelspec": {
   "display_name": "Python 3",
   "language": "python",
   "name": "python3"
  },
  "language_info": {
   "codemirror_mode": {
    "name": "ipython",
    "version": 3
   },
   "file_extension": ".py",
   "mimetype": "text/x-python",
   "name": "python",
   "nbconvert_exporter": "python",
   "pygments_lexer": "ipython3",
   "version": "3.7.0"
  }
 },
 "nbformat": 4,
 "nbformat_minor": 4
}
